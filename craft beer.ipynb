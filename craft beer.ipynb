{
 "cells": [
  {
   "cell_type": "code",
   "execution_count": 6,
   "metadata": {},
   "outputs": [],
   "source": [
    "import os\n",
    "import numpy as np\n",
    "import pandas as pd\n",
    "import sklearn"
   ]
  },
  {
   "cell_type": "code",
   "execution_count": 7,
   "metadata": {},
   "outputs": [],
   "source": [
    "data_beers = pd.read_csv(r'C:\\Users\\SREE LAKSHMI AGENCY\\Downloads\\archive\\beers.csv')\n",
    "data_brew = pd.read_csv(r'C:\\Users\\SREE LAKSHMI AGENCY\\Downloads\\archive/breweries.csv')\n",
    "data_brew.columns = ['brewery_id', 'name', 'city', 'state']\n",
    "merge_data = pd.merge(data_beers, data_brew, on=['brewery_id'])"
   ]
  },
  {
   "cell_type": "code",
   "execution_count": 8,
   "metadata": {},
   "outputs": [
    {
     "name": "stdout",
     "output_type": "stream",
     "text": [
      "Below are the top 5 states with the most breweries in them \n",
      "\n",
      "\n",
      "   state  # of breweries  mean IBU in beer\n",
      "5     CO             265         45.312705\n",
      "4     CA             183         45.345530\n",
      "22    MI             162         41.311313\n",
      "15    IN             139         42.893756\n",
      "43    TX             130         41.124922\n",
      "\n",
      "\n",
      "Below are the top 5 states with the the highest IBU in their beer \n",
      "\n",
      "\n",
      "   state  # of breweries  mean IBU in beer\n",
      "49    WV               2         57.500000\n",
      "1     AL              10         50.371317\n",
      "13    ID              30         49.742372\n",
      "7     DC               8         48.981584\n",
      "32    NM              14         48.836096\n"
     ]
    },
    {
     "name": "stderr",
     "output_type": "stream",
     "text": [
      "C:\\Anaconda3\\lib\\site-packages\\sklearn\\utils\\deprecation.py:66: DeprecationWarning: Class Imputer is deprecated; Imputer was deprecated in version 0.20 and will be removed in 0.22. Import impute.SimpleImputer from sklearn instead.\n",
      "  warnings.warn(msg, category=DeprecationWarning)\n"
     ]
    }
   ],
   "source": [
    "from sklearn.preprocessing import Imputer\n",
    "imputer = Imputer()\n",
    "df_state = pd.DataFrame(merge_data['state'])\n",
    "values = merge_data['ibu'].values\n",
    "values= values.reshape(-1,1)\n",
    "ibu = imputer.fit_transform(values)\n",
    "df_ibu = pd.DataFrame(ibu)\n",
    "frames= [df_state, df_ibu]\n",
    "state_ibu = pd.concat(frames, axis = 1)\n",
    "state_ibu.columns = ['state', 'ibu']\n",
    "state_mean = state_ibu.groupby('state')['ibu'].agg(['count','mean']).reset_index()\n",
    "state_mean.columns = ['state', \"# of breweries\", 'mean IBU in beer']\n",
    "print('Below are the top 5 states with the most breweries in them \\n\\n')\n",
    "print(state_mean.sort_values(by=['# of breweries'], ascending = False).head())\n",
    "\n",
    "print('\\n\\nBelow are the top 5 states with the the highest IBU in their beer \\n\\n')\n",
    "print(state_mean.sort_values(by=['mean IBU in beer'], ascending = False).head())"
   ]
  },
  {
   "cell_type": "code",
   "execution_count": null,
   "metadata": {},
   "outputs": [],
   "source": []
  }
 ],
 "metadata": {
  "kernelspec": {
   "display_name": "Python 3",
   "language": "python",
   "name": "python3"
  },
  "language_info": {
   "codemirror_mode": {
    "name": "ipython",
    "version": 3
   },
   "file_extension": ".py",
   "mimetype": "text/x-python",
   "name": "python",
   "nbconvert_exporter": "python",
   "pygments_lexer": "ipython3",
   "version": "3.7.4"
  }
 },
 "nbformat": 4,
 "nbformat_minor": 2
}
